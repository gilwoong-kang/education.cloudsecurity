{
 "cells": [
  {
   "cell_type": "code",
   "execution_count": 1,
   "metadata": {},
   "outputs": [
    {
     "ename": "SyntaxError",
     "evalue": "invalid syntax (<ipython-input-1-d0b8b9d16617>, line 12)",
     "output_type": "error",
     "traceback": [
      "\u001b[0;36m  File \u001b[0;32m\"<ipython-input-1-d0b8b9d16617>\"\u001b[0;36m, line \u001b[0;32m12\u001b[0m\n\u001b[0;31m    plt.style.use('ggplot')\u001b[0m\n\u001b[0m    ^\u001b[0m\n\u001b[0;31mSyntaxError\u001b[0m\u001b[0;31m:\u001b[0m invalid syntax\n"
     ]
    }
   ],
   "source": [
    "import csv, re\n",
    "import matplotlib.pyplot as plt\n",
    "result = []\n",
    "with open('/Users/gilwoongkang/Downloads/202012_202012_연령별인구현황_월간.csv','r',encoding='CP949') as file:\n",
    "    datas = csv.reader(file)\n",
    "    \n",
    "    area = input('인구현황 조회할 지역 이름을 입력 하세요: ')\n",
    "    for data in datas:\n",
    "        if area in data[0]:\n",
    "            for i in data[3:104]:\n",
    "                result.append(int(re.sub(',','',i))\n",
    "plt.style.use('ggplot')\n",
    "plt.show()"
   ]
  }
 ],
 "metadata": {
  "kernelspec": {
   "display_name": "Python 3",
   "language": "python",
   "name": "python3"
  },
  "language_info": {
   "codemirror_mode": {
    "name": "ipython",
    "version": 3
   },
   "file_extension": ".py",
   "mimetype": "text/x-python",
   "name": "python",
   "nbconvert_exporter": "python",
   "pygments_lexer": "ipython3",
   "version": "3.8.5"
  }
 },
 "nbformat": 4,
 "nbformat_minor": 4
}
