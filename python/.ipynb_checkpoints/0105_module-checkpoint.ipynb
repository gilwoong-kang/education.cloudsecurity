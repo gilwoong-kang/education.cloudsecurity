{
 "cells": [
  {
   "cell_type": "code",
   "execution_count": 1,
   "metadata": {},
   "outputs": [
    {
     "data": {
      "text/plain": [
       "module"
      ]
     },
     "execution_count": 1,
     "metadata": {},
     "output_type": "execute_result"
    }
   ],
   "source": [
    "import math # import의 방법."
   ]
  },
  {
   "cell_type": "code",
   "execution_count": 88,
   "metadata": {},
   "outputs": [
    {
     "data": {
      "text/plain": [
       "NoneType"
      ]
     },
     "execution_count": 88,
     "metadata": {},
     "output_type": "execute_result"
    }
   ],
   "source": [
    "import Mymodule # import 할때 바로 실행된다. \n",
    "type(mymodule)"
   ]
  },
  {
   "cell_type": "markdown",
   "metadata": {},
   "source": [
    "# 모듈과 클래스, 메소드\n",
    "\n",
    "- 객체(object) : 속성을 가질 수 있는 모든 것     \n",
    "- 클래스(class) : 객체를 쉽고 편리하게 생성하기 위해 만들어진 구문      \n",
    "- 인스턴스(instance) : 클래스를 기반으로 생성한 객체    \n",
    "\n",
    "### 메소드 호출\n",
    "```<<expression>>.<<method_name>>(<<argument>>)```"
   ]
  },
  {
   "cell_type": "code",
   "execution_count": 89,
   "metadata": {},
   "outputs": [
    {
     "name": "stdout",
     "output_type": "stream",
     "text": [
      "abcd\n"
     ]
    }
   ],
   "source": [
    "Mymodule.myMethod(\"abcd\")"
   ]
  },
  {
   "cell_type": "markdown",
   "metadata": {},
   "source": [
    "# 리스트"
   ]
  },
  {
   "cell_type": "code",
   "execution_count": 103,
   "metadata": {},
   "outputs": [
    {
     "data": {
      "text/plain": [
       "['krypton', 'kr', -157.2, 152]"
      ]
     },
     "execution_count": 103,
     "metadata": {},
     "output_type": "execute_result"
    }
   ],
   "source": [
    "whales = [5,4,7,3,2,3,2,6,4,2,1,7,1,3]  # 리스트 선언\n",
    "whales\n",
    "\n",
    "krypton = ['krypton','kr',-157.2,152] # 타입을 섞어서 넣어도 가능하다\n",
    "krypton"
   ]
  },
  {
   "cell_type": "code",
   "execution_count": 94,
   "metadata": {},
   "outputs": [],
   "source": [
    "from typing import List\n",
    "def average(L:List[float]) -> float: # typing 모듈을 이용해 한정지을 수 있다. \n",
    "    pass"
   ]
  },
  {
   "cell_type": "code",
   "execution_count": 96,
   "metadata": {},
   "outputs": [
    {
     "name": "stdout",
     "output_type": "stream",
     "text": [
      "5\n",
      "5\n"
     ]
    }
   ],
   "source": [
    "print(whales[3])\n",
    "whales[3] = 5   # 값을 지정해서 변경 가능하다. \n",
    "print(whales[3])"
   ]
  },
  {
   "cell_type": "code",
   "execution_count": 99,
   "metadata": {},
   "outputs": [
    {
     "name": "stdout",
     "output_type": "stream",
     "text": [
      "True\n"
     ]
    }
   ],
   "source": [
    "# in 연산자. 어떤 객체가 리스트에 들어 있는지 파악\n",
    "# in 연산은 한가지 항목에 대해서만 파악 가능하다. \n",
    "if 5 in whales:\n",
    "    print(True)"
   ]
  },
  {
   "cell_type": "code",
   "execution_count": 101,
   "metadata": {},
   "outputs": [
    {
     "data": {
      "text/plain": [
       "[5, 4, 7, 5, 2]"
      ]
     },
     "execution_count": 101,
     "metadata": {},
     "output_type": "execute_result"
    }
   ],
   "source": [
    "# list[i:j] i부터 j전까지 이루어진 새로운 리스트 생성\n",
    "whales[:5] # 생략의 경우 앞은 0, 뒤는 맨 끝까지로 취급한다. "
   ]
  },
  {
   "cell_type": "markdown",
   "metadata": {},
   "source": [
    "## 리스트 메소드"
   ]
  },
  {
   "cell_type": "code",
   "execution_count": 109,
   "metadata": {},
   "outputs": [],
   "source": [
    "whales.append(4) # 값을 끝에 추가한다 \n",
    "whales.count(3)\n",
    "whales.extend('4') # 리스트에 v항목들을 덧붙인다.\n",
    "whales.index(3) # 처음 값이 나오는 index return. \n",
    "# whales.sort()\n",
    "whales.reverse() \n",
    "whales.insert(4,5)\n",
    "whales.pop() # 맨 위에것 반환\n",
    "whales.remove(3)\n",
    "whales.copy() # 본래 리스트와 동일한 값을 가지는 새 리스트를 반환 -> 다른 주소임\n",
    "whales.clear()\n",
    "\n",
    "# 리스트 메소드들은 대부분 None을 반환하는 메소드. 때문에 반환 받아 사용하는 행위에 주의."
   ]
  },
  {
   "cell_type": "markdown",
   "metadata": {},
   "source": [
    "## 반복문"
   ]
  },
  {
   "cell_type": "code",
   "execution_count": 113,
   "metadata": {},
   "outputs": [
    {
     "name": "stdout",
     "output_type": "stream",
     "text": [
      "5\n",
      "4\n",
      "7\n",
      "3\n",
      "2\n",
      "3\n",
      "2\n",
      "6\n",
      "4\n",
      "2\n",
      "1\n",
      "7\n",
      "1\n",
      "3\n"
     ]
    }
   ],
   "source": [
    "whales = [5,4,7,3,2,3,2,6,4,2,1,7,1,3]  # 리스트 선언\n",
    "for whale in whales:\n",
    "    print(whale)"
   ]
  },
  {
   "cell_type": "code",
   "execution_count": 118,
   "metadata": {},
   "outputs": [
    {
     "name": "stdout",
     "output_type": "stream",
     "text": [
      "0\n",
      "1\n",
      "2\n",
      "3\n",
      "4\n",
      "5\n",
      "6\n",
      "7\n",
      "8\n",
      "9\n",
      "-----------------\n",
      "0\n",
      "2\n",
      "4\n"
     ]
    }
   ],
   "source": [
    "# range\n",
    "for r in range(10):\n",
    "    print(r)\n",
    "print('-----------------')\n",
    "# 1씩 아닌 2 또는 3과 같은 증가치를 가질수도 있음\n",
    "for r in range(0,5,2):\n",
    "    print(r)"
   ]
  },
  {
   "cell_type": "code",
   "execution_count": 137,
   "metadata": {},
   "outputs": [],
   "source": [
    "def print_mul(x):\n",
    "    for i in range(1,x+1):\n",
    "        print('\\t'+str(i),end='')\n",
    "    print()\n",
    "    for i in range(1,x+1):\n",
    "        print(i,'\\t',end='')\n",
    "        for j in range(1,x+1):\n",
    "            print(i*j,'\\t',end='')\n",
    "        print()"
   ]
  },
  {
   "cell_type": "code",
   "execution_count": 141,
   "metadata": {},
   "outputs": [
    {
     "name": "stdout",
     "output_type": "stream",
     "text": [
      "숫자를 입력하세요 : 3\n",
      "\t1\t2\t3\n",
      "1 \t1 \t2 \t3 \t\n",
      "2 \t2 \t4 \t6 \t\n",
      "3 \t3 \t6 \t9 \t\n"
     ]
    }
   ],
   "source": [
    "print_mul(int(input('숫자를 입력하세요 : ')))"
   ]
  },
  {
   "cell_type": "code",
   "execution_count": 145,
   "metadata": {},
   "outputs": [
    {
     "name": "stdout",
     "output_type": "stream",
     "text": [
      "9:02  10:17  13:52  18:23  21:31  \n",
      "8:45  12:44  14:52  22:17  \n",
      "8:55  11:11  12:34  13:46  15:52  17:08  21:15  \n",
      "9:15  11:44  16:28  \n",
      "10:01  13:33  16:45  19:00  \n",
      "9:34  11:16  15:52  20:37  \n",
      "9:01  12:24  18:51  23:13  \n"
     ]
    }
   ],
   "source": [
    "drinking_times_by_day = [[\"9:02\", \"10:17\", \"13:52\", \"18:23\", \"21:31\"],\n",
    "                          [\"8:45\", \"12:44\", \"14:52\", \"22:17\"],\n",
    "                          [\"8:55\", \"11:11\", \"12:34\", \"13:46\", \"15:52\", \"17:08\", \"21:15\"],\n",
    "                          [\"9:15\", \"11:44\", \"16:28\"],\n",
    "                          [\"10:01\", \"13:33\", \"16:45\", \"19:00\"],\n",
    "                          [\"9:34\", \"11:16\", \"15:52\", \"20:37\"],\n",
    "                          [\"9:01\", \"12:24\", \"18:51\", \"23:13\"]]\n",
    "\n",
    "for dt in drinking_times_by_day:\n",
    "    for time in dt:\n",
    "        print(time,' ',end='')\n",
    "    print()"
   ]
  },
  {
   "cell_type": "markdown",
   "metadata": {},
   "source": [
    "### While 문"
   ]
  },
  {
   "cell_type": "code",
   "execution_count": 146,
   "metadata": {},
   "outputs": [
    {
     "name": "stdout",
     "output_type": "stream",
     "text": [
      "121.0\n",
      "146.41\n",
      "177.15609999999998\n",
      "214.35888099999997\n",
      "259.37424601\n",
      "313.84283767209996\n",
      "379.74983358324096\n",
      "459.49729863572156\n",
      "555.9917313492231\n",
      "672.74999493256\n",
      "814.0274938683975\n",
      "984.973267580761\n",
      "1191.8176537727209\n",
      "1442.0993610649923\n",
      "1744.9402268886406\n",
      "2111.377674535255\n"
     ]
    }
   ],
   "source": [
    "time, population, growth_rate = 0,100,0.21\n",
    "\n",
    "while population < 2000:\n",
    "    population = population + (growth_rate) * population\n",
    "    print(population)"
   ]
  },
  {
   "cell_type": "markdown",
   "metadata": {},
   "source": [
    "### break, continue"
   ]
  },
  {
   "cell_type": "code",
   "execution_count": 152,
   "metadata": {},
   "outputs": [
    {
     "name": "stdout",
     "output_type": "stream",
     "text": [
      "0\n",
      "1\n",
      "2\n",
      "3\n",
      "4\n",
      "6\n",
      "7\n",
      "8\n",
      "9\n",
      "\n",
      " '----------'\n",
      "0\n",
      "1\n",
      "2\n",
      "3\n",
      "4\n"
     ]
    }
   ],
   "source": [
    "for i in range(10):\n",
    "    if i == 5:\n",
    "        continue\n",
    "    else:\n",
    "        print(i)\n",
    "print('\\n',\"'----------'\")\n",
    "for i in range(10):\n",
    "    if i==5:\n",
    "        break\n",
    "    else:\n",
    "        print(i)"
   ]
  },
  {
   "cell_type": "markdown",
   "metadata": {},
   "source": [
    "# 파일 읽기/쓰기"
   ]
  },
  {
   "cell_type": "code",
   "execution_count": 155,
   "metadata": {},
   "outputs": [
    {
     "name": "stdout",
     "output_type": "stream",
     "text": [
      "hello !\n"
     ]
    }
   ],
   "source": [
    "# open(file, mode='r',buffering=-1,encoding=None...)\n",
    "file = open('read.txt','r')\n",
    "\n",
    "content = file.read()\n",
    "\n",
    "print(content)\n",
    "\n",
    "file.close()  # close() 꼭 해줘야 함"
   ]
  },
  {
   "cell_type": "code",
   "execution_count": 157,
   "metadata": {},
   "outputs": [
    {
     "name": "stdout",
     "output_type": "stream",
     "text": [
      "hello !\n"
     ]
    }
   ],
   "source": [
    "# 문제가 생겨서 close 못 할 수도 있으므로 with 구문과 함께 사용하면 자동으로 close()\n",
    "with open('read.txt','r') as f:\n",
    "    content = f.read() # read 내부 숫자를 넣으면 숫자만큼의 문자를 읽음.\n",
    "    print(content)"
   ]
  },
  {
   "cell_type": "code",
   "execution_count": 159,
   "metadata": {},
   "outputs": [
    {
     "name": "stdout",
     "output_type": "stream",
     "text": [
      "['hello !\\n', 'text !\\n']\n"
     ]
    }
   ],
   "source": [
    "with open('read.txt','r') as f:\n",
    "    content = f.readlines()  # 라인단위로 읽어냄.\n",
    "    print(content)"
   ]
  },
  {
   "cell_type": "code",
   "execution_count": 161,
   "metadata": {},
   "outputs": [
    {
     "name": "stdout",
     "output_type": "stream",
     "text": [
      "hello !\n",
      "text !\n"
     ]
    }
   ],
   "source": [
    "# 라인단위 뽑아낼때 \\n가 불편함. strip()을 이용해 공백문자를 제거한다.\n",
    "\n",
    "for i in content:\n",
    "    print(i.strip())"
   ]
  },
  {
   "cell_type": "code",
   "execution_count": 170,
   "metadata": {},
   "outputs": [
    {
     "name": "stdout",
     "output_type": "stream",
     "text": [
      "hello ! --> 7\n",
      "text ! --> 6\n"
     ]
    }
   ],
   "source": [
    "# for line in file -> 라인단위 처리 구문 \n",
    "with open('read.txt','r') as data_file:\n",
    "    for line in data_file:\n",
    "        print(line.strip(),'-->',len(line.strip()))"
   ]
  },
  {
   "cell_type": "code",
   "execution_count": 171,
   "metadata": {},
   "outputs": [
    {
     "name": "stdout",
     "output_type": "stream",
     "text": [
      "전체 모피의 수는 373개입니다.\n"
     ]
    }
   ],
   "source": [
    "with open('./hopedale.txt', 'r') as file:\n",
    "    # 첫번째 줄은 설명문이므로 건너뛴다.\n",
    "    file.readline()\n",
    "\n",
    "    # 줄 단위로 읽은 내용이 \"#\"으로 시작하는 경우\n",
    "    # 아무런 처리를 하지 않는다.\n",
    "    data = file.readline()\n",
    "    while data.startswith('#'):\n",
    "        data = file.readline()\n",
    "\n",
    "    # 처음으로 \"#\"으로 시작하지 않는 경우\n",
    "    # 처음으로 나온 숫자를 합계로 설정\n",
    "    total_pelts = int(data.strip())\n",
    "\n",
    "    # 나머지 숫자 데이터를 읽어서 합계에 추가\n",
    "    for data in file:\n",
    "        total_pelts = total_pelts + int(data.strip())\n",
    "\n",
    "print(\"전체 모피의 수는 \" + str(total_pelts) + \"개입니다.\")"
   ]
  },
  {
   "cell_type": "code",
   "execution_count": 172,
   "metadata": {},
   "outputs": [
    {
     "name": "stdout",
     "output_type": "stream",
     "text": [
      "Coloured fox fur production, HOPEDALE, Labrador,, 1834-1925\n",
      "#Source: C. Elton (1942) \"Voles, Mice and Lemmings\", Oxford Univ. Press\n",
      "#Table 17, p.265--266\n",
      "22\n",
      "29\n",
      "2\n",
      "16\n",
      "12\n",
      "35\n",
      "8\n",
      "83\n",
      "166\n",
      "62\n",
      "77\n",
      "42\n",
      "54\n",
      "56\n",
      "5\n",
      "9\n",
      "78\n",
      "151\n",
      "27\n",
      "14\n",
      "71\n",
      "261\n",
      "22\n",
      "3\n",
      "16\n",
      "70\n",
      "7\n",
      "2\n",
      "26\n",
      "27\n",
      "35\n",
      "9\n",
      "11\n",
      "73\n",
      "39\n",
      "22\n",
      "41\n",
      "31\n",
      "60\n",
      "7\n",
      "28\n",
      "43\n",
      "17\n",
      "26\n",
      "35\n",
      "60\n",
      "75\n",
      "18\n",
      "58\n",
      "38\n",
      "28\n",
      "26\n",
      "29\n",
      "43\n",
      "16\n",
      "40\n",
      "25\n",
      "28\n",
      "12\n",
      "22\n",
      "13\n",
      "52\n",
      "90\n",
      "103\n",
      "15\n",
      "26\n",
      "29\n",
      "102\n",
      "31\n",
      "9\n",
      "33\n",
      "90\n",
      "95\n",
      "17\n",
      "35\n",
      "59\n",
      "115\n",
      "12\n",
      "26\n",
      "38\n",
      "202\n",
      "25\n",
      "83\n",
      "92\n",
      "58\n",
      "0\n",
      "19\n",
      "63\n",
      "108\n",
      "25\n",
      "38\n",
      "231\n"
     ]
    }
   ],
   "source": [
    "# 인터넷 파일 읽기\n",
    "\n",
    "import urllib.request\n",
    "url = 'https://robjhyndman.com/tsdldata/ecology1/hopedale.dat'\n",
    "with urllib.request.urlopen(url) as webpage:\n",
    "    for line in webpage:\n",
    "        line = line.strip()\n",
    "        line = line.decode('utf-8')\n",
    "        \n",
    "        print(line)"
   ]
  },
  {
   "cell_type": "markdown",
   "metadata": {},
   "source": [
    "파일 쓰기 모드는 두가지 모드가 있다.    \n",
    "- 쓰기 모드 (write) : 동일한 파일이 없다면 새로 생성하고 동일한 파일이 있다면 기존 파일을 삭제하고 덮어쓰기\n",
    "- 덧붙이기 모드(append) : 기존 파일에 이어서 쓰는 형식. "
   ]
  },
  {
   "cell_type": "code",
   "execution_count": 176,
   "metadata": {},
   "outputs": [],
   "source": [
    "with open('topics.txt','a') as output_file: # 'w' 모드로 하면 write 모드.\n",
    "    output_file.write('new message')"
   ]
  },
  {
   "cell_type": "code",
   "execution_count": 186,
   "metadata": {},
   "outputs": [],
   "source": [
    "import decimal\n",
    "# 읽기 쓰기 동시 실습\n",
    "with open('output_number.txt','w') as o:\n",
    "    with open('input_number.txt','r') as i:\n",
    "        line = i.readlines()\n",
    "        for j in line :\n",
    "            l = j.split(' ')\n",
    "            sum = 0\n",
    "            for x in l:\n",
    "                sum += decimal.Decimal(x)\n",
    "            o.write('{} \\n'.format(str(sum)))"
   ]
  },
  {
   "cell_type": "code",
   "execution_count": 188,
   "metadata": {},
   "outputs": [
    {
     "name": "stdout",
     "output_type": "stream",
     "text": [
      "2.6\n",
      "1.0\n",
      "14.4\n"
     ]
    }
   ],
   "source": [
    "with open('output_number.txt','r') as i:\n",
    "    line = i.readlines()\n",
    "    for i in line:\n",
    "        i = i.strip()\n",
    "        print(i)"
   ]
  },
  {
   "cell_type": "markdown",
   "metadata": {},
   "source": [
    "## String IO\n",
    "\n",
    "실제 파일인 것처럼 읽고 쓰기가 가능"
   ]
  },
  {
   "cell_type": "code",
   "execution_count": 189,
   "metadata": {},
   "outputs": [
    {
     "data": {
      "text/plain": [
       "'1.3 3.4 \\n2 4.2\\n4.5 5.2'"
      ]
     },
     "execution_count": 189,
     "metadata": {},
     "output_type": "execute_result"
    }
   ],
   "source": [
    "from io import StringIO\n",
    "input_String = '1.3 3.4 \\n2 4.2\\n4.5 5.2'\n",
    "outfile = StringIO()\n",
    "outfile.write(input_String)\n",
    "outfile.getvalue()"
   ]
  }
 ],
 "metadata": {
  "kernelspec": {
   "display_name": "Python 3",
   "language": "python",
   "name": "python3"
  },
  "language_info": {
   "codemirror_mode": {
    "name": "ipython",
    "version": 3
   },
   "file_extension": ".py",
   "mimetype": "text/x-python",
   "name": "python",
   "nbconvert_exporter": "python",
   "pygments_lexer": "ipython3",
   "version": "3.8.5"
  }
 },
 "nbformat": 4,
 "nbformat_minor": 4
}
