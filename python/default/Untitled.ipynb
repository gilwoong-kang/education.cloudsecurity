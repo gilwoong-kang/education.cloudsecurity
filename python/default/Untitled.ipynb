{
 "cells": [
  {
   "cell_type": "code",
   "execution_count": 19,
   "metadata": {},
   "outputs": [
    {
     "name": "stdout",
     "output_type": "stream",
     "text": [
      "17 17.0\n",
      "<class 'int'>\n",
      "<class 'float'>\n",
      "2.2083333333333335\n",
      "2\n",
      "5\n",
      "-2\n",
      "-2\n",
      "-3\n",
      "729\n",
      "5\n"
     ]
    }
   ],
   "source": [
    "print(4 + 13, \n",
    "4.0 + 13.0)\n",
    "\n",
    "print(type(4))\n",
    "print(type(4.0))\n",
    "\n",
    "print(53/24)   # 파이썬은 int형으로 나눠도 실수형으로 반환.\n",
    "print(53//24)  # 정수 나눗셈\n",
    "print(53 % 24) # 나머지 (모듈러 연산)\n",
    "\n",
    "print(-17//10) # 음수 연산자에서 파이썬은 정수 나눗셈 결과에 1 작게 결과가 도출된다. (-1인데 하나 작은 -2가 도출.)\n",
    "print(17//-10)\n",
    "print(17%-10)\n",
    "\n",
    "print(3 ** 6) # '**' 는 제곱을 의미.\n",
    "print(--5) # 단항 연산자 (항이 하나인 연산의 연산자.)"
   ]
  }
 ],
 "metadata": {
  "kernelspec": {
   "display_name": "Python 3",
   "language": "python",
   "name": "python3"
  },
  "language_info": {
   "codemirror_mode": {
    "name": "ipython",
    "version": 3
   },
   "file_extension": ".py",
   "mimetype": "text/x-python",
   "name": "python",
   "nbconvert_exporter": "python",
   "pygments_lexer": "ipython3",
   "version": "3.8.5"
  }
 },
 "nbformat": 4,
 "nbformat_minor": 4
}
