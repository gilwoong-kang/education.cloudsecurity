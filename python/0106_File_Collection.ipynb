{
 "cells": [
  {
   "cell_type": "code",
   "execution_count": 18,
   "metadata": {},
   "outputs": [],
   "source": [
    "from typing import TextIO\n",
    "from io import StringIO"
   ]
  },
  {
   "cell_type": "code",
   "execution_count": 32,
   "metadata": {},
   "outputs": [],
   "source": [
    "# file_handler.py 로 이전\n",
    "\n",
    "# # 헤더 건너뛰고 첫 데이터 추출\n",
    "# def skip_header(reader: TextIO) -> str:\n",
    "#     '''\n",
    "#         reader 내 헤더를 건너뛰고 첫 번째 데이터를 반환한다.\n",
    "#     '''\n",
    "    \n",
    "#     line = reader.readerline()\n",
    "#     line = reader.readline()\n",
    "#     while line.startswitch('#'):\n",
    "#         line = reader.readline()\n",
    "        \n",
    "#     return line\n",
    "\n",
    "# # 데이터를 읽어들여 출력하는 함수\n",
    "# def process_file(reader: TextIO) -> None:\n",
    "#     print(skip_header(reader).strip())\n",
    "\n",
    "# def find_largest(line:str) -> int:\n",
    "#     largest = -1\n",
    "#     for value in line.split():\n",
    "#         v = int(value[:-1])\n",
    "#         if v > largest:\n",
    "#             largest = v\n",
    "#     return largest\n",
    "\n",
    "import file_handler\n",
    "\n",
    "def process_file(reader: TextIO)->int:\n",
    "    line = file_handler.skip_header(reader).strip()\n",
    "    largest = file_handler.find_largest(line)\n",
    "    \n",
    "    for line in reader:\n",
    "        large = file_handler.find_largest(line)\n",
    "        if large > largest:\n",
    "            largest = large\n",
    "    return largest\n"
   ]
  },
  {
   "cell_type": "code",
   "execution_count": 34,
   "metadata": {},
   "outputs": [
    {
     "name": "stdout",
     "output_type": "stream",
     "text": [
      "6991\n"
     ]
    }
   ],
   "source": [
    "if __name__ == '__main__':\n",
    "    with open('data.txt','r') as input_file:\n",
    "        print(process_file(input_file))"
   ]
  },
  {
   "cell_type": "markdown",
   "metadata": {},
   "source": [
    "## 10.8 다수 행 레코드"
   ]
  },
  {
   "cell_type": "code",
   "execution_count": 36,
   "metadata": {},
   "outputs": [],
   "source": [
    "from typing import TextIO\n",
    "from io import StringIO\n",
    "\n",
    "def read_molecule(reader: TextIO) -> list:\n",
    "    line = reader.readline()\n",
    "    if not line:\n",
    "        return None\n",
    "    \n",
    "    parts = line.split()\n",
    "    name = parts[1]\n",
    "    \n",
    "    molecule = [name]\n",
    "    \n",
    "    reading = True\n",
    "    while reading:\n",
    "        line = reader.readline()\n",
    "        if line.startswith('END'):\n",
    "            reading = False\n",
    "        else:\n",
    "            parts = line.split()\n",
    "            molecule.append(parts[2:])\n",
    "    return molecule\n",
    "    \n",
    "def read_all_molecules(reader: TextIO) -> list:\n",
    "    result = []\n",
    "    \n",
    "    reading = True\n",
    "    while reading:\n",
    "        molecule = read_molecule(reader)\n",
    "        if molecule:\n",
    "            result.append(molecule)\n",
    "        else:\n",
    "            reading = False\n",
    "    return result"
   ]
  },
  {
   "cell_type": "code",
   "execution_count": 43,
   "metadata": {},
   "outputs": [
    {
     "name": "stdout",
     "output_type": "stream",
     "text": [
      "[['AMMONIA', ['N', '0.257', '-0.363', '0.000'], ['H', '0.257', '0.727', '0.000'], ['H', '0.771', '-0.727', '0.890'], ['H', '0.771', '-0.727', '-0.890']], ['METHANOL', ['C', '-0.748', '-0.015', '0.024'], ['O', '0.558', '0.420', '-0.278'], ['H', '-1.293', '-0.202', '-0.901'], ['H', '-1.263', '0.754', '0.600'], ['H', '-0.699', '-0.934', '0.609'], ['H', '0.716', '1.404', '0.137']]]\n"
     ]
    }
   ],
   "source": [
    "if __name__ == '__main__':\n",
    "    molecule_file = open('pdb.txt','r')\n",
    "    molecules = read_all_molecules(molecule_file)\n",
    "    molecule_file.close()\n",
    "    print(molecules)"
   ]
  },
  {
   "cell_type": "markdown",
   "metadata": {},
   "source": [
    "## 정규 표현식\n",
    "\n",
    "아래와 같은 데이터에서 (저자, 년도) 정보를 추출하고자 할때\n",
    "```\n",
    "평생교육 실습 체험에 대한 내러티브 연구(김진숙,2012)     \n",
    "직업적 전문성과 직무의 탐구(박지혜,2003)       \n",
    "대학생의 평생교육(최희준,2008)      \n",
    "```"
   ]
  },
  {
   "cell_type": "code",
   "execution_count": 53,
   "metadata": {},
   "outputs": [
    {
     "name": "stdout",
     "output_type": "stream",
     "text": [
      "['(김진숙,2012)', '(박지혜,2003)', '(최희준,2008)']\n"
     ]
    }
   ],
   "source": [
    "import re\n",
    "\n",
    "text = \"평생교육 실습 체험에 대한 내러티브 연구(김진숙,2012)     직업적 전문성과 직무의 탐구(박지혜,2003)       대학생의 평생교육(최희준,2008)\"\n",
    "\n",
    "result = re.findall(r'\\([A-Za-z가-힣]+,\\d+\\)', text)\n",
    "\n",
    "print(result)"
   ]
  },
  {
   "cell_type": "markdown",
   "metadata": {},
   "source": [
    "일반적인 문자의 경우 대괄호 안에 범위를 표기하여 정규표현식을 이용할 수 있다.\n",
    "\\[A-Za-z가-힣\\]       \n",
    "\\d 는 숫자. \\D는 숫자가 아닌 것을 나타낸다.     \n",
    "\\s = white space. 이는 \\[ \\t\\n\\r\\f\\v\\] 와 일치한다.   \n",
    "줄바꿈 = 0A,   캐리지리턴 = 0D,   폼피드 = 0C,   탭 = 09,  수직 탭 = 0B        \n",
    "\\S white space가 아닌것. \\[^\\t\\n\\r\\f\\v\\] 와 동일하다.        \n",
    "\\w = 문자 + 숫자. \\[a-zA-z0-9\\]        \n",
    "\\W = 문자 + 숫자를 제외한 것.     \n",
    "\n",
    "\n",
    "\\* : 앞의 표현식이 0회 이상 연속으로 반복되는 부분과 대응 {0,}          \n",
    "\\+ : 앞의 표현식이 1회 이상 연속으로 반복되는 부분과 대응 {1,}         \n",
    "? : 앞의 표현식이 0 또는 1회 나오는 부분과 대응 {0,1}          \n",
    ". : 개행문자를 제외한 모든 단일 문자\n",
    "           \n",
    "\\(  ) : grouping      \n",
    "\\{n\\} 또는 \\{n,m\\} : 반복        \n",
    "          \n",
    "예를들어 휴대전화 번호 양식을 취하고자 한다면 \n",
    "```01[016-9]-\\d{3,4}-\\d{4}```"
   ]
  },
  {
   "cell_type": "markdown",
   "metadata": {},
   "source": [
    "```re.match(pattern,string,flags)``` string시작부터 pattern과 일치하는 문자열 반환."
   ]
  },
  {
   "cell_type": "code",
   "execution_count": 55,
   "metadata": {},
   "outputs": [
    {
     "data": {
      "text/plain": [
       "'life'"
      ]
     },
     "execution_count": 55,
     "metadata": {},
     "output_type": "execute_result"
    }
   ],
   "source": [
    "pattern = 'life'\n",
    "string = 'life of human'\n",
    "re.match(pattern,string).group()"
   ]
  },
  {
   "cell_type": "markdown",
   "metadata": {},
   "source": [
    "위치 관계 없이 찾고자 할 때 ```re.search(pattern,string,flags=0)```"
   ]
  },
  {
   "cell_type": "code",
   "execution_count": 56,
   "metadata": {},
   "outputs": [
    {
     "data": {
      "text/plain": [
       "'life'"
      ]
     },
     "execution_count": 56,
     "metadata": {},
     "output_type": "execute_result"
    }
   ],
   "source": [
    "string = 'human life'\n",
    "re.search(pattern,string).group()"
   ]
  },
  {
   "cell_type": "markdown",
   "metadata": {},
   "source": [
    "패턴을 모두 찾아 리스트로 반환 하고자 할때 ```re.findall(pattern,string,flags=0)```"
   ]
  },
  {
   "cell_type": "code",
   "execution_count": 58,
   "metadata": {},
   "outputs": [
    {
     "data": {
      "text/plain": [
       "['700000-1000000', '800812-2134315']"
      ]
     },
     "execution_count": 58,
     "metadata": {},
     "output_type": "execute_result"
    }
   ],
   "source": [
    "members = '''홍길동 : 700000-1000000,\n",
    "아무개 : 800812-2134315'''\n",
    "re.findall('\\d{6}-\\d{7}',members)"
   ]
  },
  {
   "cell_type": "markdown",
   "metadata": {},
   "source": [
    "```re.sub(pattern,repl,string,count=0,flags=0)``` 문자열 바꾸기."
   ]
  },
  {
   "cell_type": "code",
   "execution_count": 61,
   "metadata": {},
   "outputs": [
    {
     "name": "stdout",
     "output_type": "stream",
     "text": [
      "By learning to interpret dog body language and mimic the pack behaviors your dog craves, you can say 'I love you' to your dog in the following ways. \n",
      "\n",
      "We all know that a loved dog equals a happy dog, and dog love equals pure love (just check out the video evidence!)\n",
      "'---------------'\n"
     ]
    },
    {
     "data": {
      "text/plain": [
       "\"By learning to interpret dog body language and mimic the pack behaviors your dog craves, you can say 'I love you' to your dog in the following ways.   We all know that a loved dog equals a happy dog, and dog love equals pure love (just check out the video evidence!)\""
      ]
     },
     "execution_count": 61,
     "metadata": {},
     "output_type": "execute_result"
    }
   ],
   "source": [
    "sentence = \"By learning to interpret dog body language and mimic the pack behaviors your dog craves, you can say 'I love you' to your dog in the following ways. \\n\\nWe all know that a loved dog equals a happy dog, and dog love equals pure love (just check out the video evidence!)\"\n",
    "print(sentence)\n",
    "print(\"'---------------'\")\n",
    "\n",
    "re.sub('\\n',' ',sentence)"
   ]
  },
  {
   "cell_type": "markdown",
   "metadata": {},
   "source": [
    "## Collection\n",
    "\n",
    "### set\n",
    "\n",
    "set는 list와 유사한 형태이지만, 순서가 없고 중복을 허가하지 않는다. (값을 넣어도 1개만 유지된다.) 중괄호('{}') 형태로 선언하여 이용 할 수 있다.    \n",
    "\n",
    "```vowels = {'a','b','c'}```"
   ]
  },
  {
   "cell_type": "code",
   "execution_count": 40,
   "metadata": {
    "scrolled": true
   },
   "outputs": [
    {
     "data": {
      "text/plain": [
       "True"
      ]
     },
     "execution_count": 40,
     "metadata": {},
     "output_type": "execute_result"
    }
   ],
   "source": [
    "{1,2,3,4,5,6,7} == {1,1,2,2,2,3,3,3,3,4,4,5,6,7} # 값이 여러개여도 중복을 허가하지 않아 같은 것으로 취급된다. "
   ]
  },
  {
   "cell_type": "code",
   "execution_count": 42,
   "metadata": {},
   "outputs": [
    {
     "name": "stdout",
     "output_type": "stream",
     "text": [
      "<class 'set'>\n",
      "<class 'set'>\n"
     ]
    }
   ],
   "source": [
    "vowels = {'a','b','c','d'}\n",
    "\n",
    "print(type(vowels))\n",
    "print(type({1,2,3}))"
   ]
  },
  {
   "cell_type": "markdown",
   "metadata": {},
   "source": [
    "차후 나올 dictionary라는 데이터 타입으로 인해 중괄호 표기만으로 빈 set를 선언할 수 없다. 때문에 빈 set를 생성하기 위해서는 ```set()```를 이용한다."
   ]
  },
  {
   "cell_type": "code",
   "execution_count": 62,
   "metadata": {},
   "outputs": [
    {
     "data": {
      "text/plain": [
       "set()"
      ]
     },
     "execution_count": 62,
     "metadata": {},
     "output_type": "execute_result"
    }
   ],
   "source": [
    "set()"
   ]
  },
  {
   "cell_type": "markdown",
   "metadata": {},
   "source": [
    "해쉬(Hash) = Message Digest      \n",
    "임의 크기의 데이터를 고정된 길이의 유일한 값으로 출력. \n",
    "\n",
    "좋은 해쉬 알고리즘이란\n",
    "유일성, 일방향성(암호가능 복호불가), 충돌회피, 빠른속도\n",
    "           \n",
    "> authentication(인증) vs authorization(권한)         인증은 나는 누구이며 누구임을 증명하는 것을 인증이라고 한다. 권한은 누군가 무엇을 할때 그것을 수행하는데 허가가 있는지를 보는 것이다. \n",
    " \n",
    "해쉬 알고리즘은 일반적으로 수학적 복호가 불가능함. 때문에 원본을 알기 어려움\n",
    "\n",
    "해쉬 크래킹이라고 해서 해쉬값을 추적하는 방법이 존재한는데 사전대입공격, 무작위대입공격, 레인보우테이블 등이 존재한다.          \n",
    "해쉬 크래킹을 막는 방법은 입력값의 길이, 복잡도를 올려서 값을 추적하기 어렵게 한다. 또는 입력 제한을 걸어 n회 이상 실패시 잠금을 거는 방식을 취하면 된다. 또는 multi factor 인증을 통해 추가로 수행한다. \n",
    "salt라고 해서 시스템이 추가로 입력해주는 값을 통해 원본 값의 입력을 길게 하는 등 형태를 취하면 더 안전하게 이용할 수 있다."
   ]
  },
  {
   "cell_type": "markdown",
   "metadata": {},
   "source": [
    "### 튜플\n",
    "\n",
    "( ) 로선언하여 이용하다. 리스트와 매우 유사한데, 수정이 불가능하다는 점이 다르다. 한가지 주의점이 있는데, 하나의 원소만을 가진 튜플을 생성할 때에는 뒤에 쉼표를 붙여주어야 정상적으로 동작한다는 점이다."
   ]
  },
  {
   "cell_type": "code",
   "execution_count": 64,
   "metadata": {},
   "outputs": [
    {
     "data": {
      "text/plain": [
       "tuple"
      ]
     },
     "execution_count": 64,
     "metadata": {},
     "output_type": "execute_result"
    }
   ],
   "source": [
    "type((8,))"
   ]
  },
  {
   "cell_type": "markdown",
   "metadata": {},
   "source": [
    "### 딕셔너리\n",
    "\n",
    "맵이라고도 하는 이 데이터 타입은 키/값 쌍으로 이루어진 정렬되지 않은 가변 컬렉션이다. "
   ]
  },
  {
   "cell_type": "code",
   "execution_count": 68,
   "metadata": {
    "scrolled": true
   },
   "outputs": [
    {
     "name": "stdout",
     "output_type": "stream",
     "text": [
      "{'canada goose': 3, 'northern fulmar': 1}\n"
     ]
    }
   ],
   "source": [
    "bird_to_observations = {'canada goose':3,'northern fulmar':1}\n",
    "print(bird_to_observations)"
   ]
  },
  {
   "cell_type": "code",
   "execution_count": 73,
   "metadata": {},
   "outputs": [],
   "source": [
    "birds = {}\n",
    "\n",
    "with open('birds.txt', 'r') as file:\n",
    "    for line in file:\n",
    "        bird = line.strip()\n",
    "\n",
    "        if bird in birds:\n",
    "            birds[bird] = birds[bird] + 1\n",
    "        else:\n",
    "            birds[bird] = 1\n"
   ]
  },
  {
   "cell_type": "code",
   "execution_count": 75,
   "metadata": {},
   "outputs": [
    {
     "name": "stdout",
     "output_type": "stream",
     "text": [
      "{3: ['aaa'], 4: ['bbb', 'ccc'], 2: ['xxx'], 1: ['ddd']}\n"
     ]
    }
   ],
   "source": [
    "new_birds = {}\n",
    "for bird,observations in birds.items():\n",
    "    if observations in new_birds:\n",
    "        new_birds[observations].append(bird)\n",
    "    else:\n",
    "        new_birds[observations] = [bird]\n",
    "print(new_birds)"
   ]
  },
  {
   "cell_type": "markdown",
   "metadata": {},
   "source": [
    "## 알고리즘 디자인"
   ]
  },
  {
   "cell_type": "code",
   "execution_count": 91,
   "metadata": {},
   "outputs": [],
   "source": [
    "from typing import List, Tuple\n",
    "import time\n",
    "\n",
    "# 찾고 삭제하고 찾기, 복사로 인해 공간적으로 보면 비효율적. 시간복잡도는 3n\n",
    "def find_low_2_number(L:List[float]):\n",
    "    l = L.copy()\n",
    "    lowestIndex = l.index(min(L))\n",
    "    lowest = l[lowestIndex]\n",
    "    l.remove(lowest)\n",
    "    return (lowest,min(l))"
   ]
  },
  {
   "cell_type": "code",
   "execution_count": 83,
   "metadata": {},
   "outputs": [
    {
     "name": "stdout",
     "output_type": "stream",
     "text": [
      "(1, 2)\n"
     ]
    }
   ],
   "source": [
    "l = [1,2,3,4,5]\n",
    "print(find_low_2_number(l))"
   ]
  },
  {
   "cell_type": "code",
   "execution_count": 84,
   "metadata": {},
   "outputs": [],
   "source": [
    "# 정렬이후 2개 반환, sort를 수행하므로 아무리 빨라도 nlogn (radix의 경우라면 kn까지 가능)\n",
    "def find_low_2_number_sort(L:List[float]):\n",
    "    L.sort()\n",
    "    return (L[0],L[1])"
   ]
  },
  {
   "cell_type": "code",
   "execution_count": 86,
   "metadata": {},
   "outputs": [
    {
     "name": "stdout",
     "output_type": "stream",
     "text": [
      "(1, 2)\n"
     ]
    }
   ],
   "source": [
    "l = [1,2,3,4,5]\n",
    "print(find_low_2_number_sort(l))"
   ]
  },
  {
   "cell_type": "code",
   "execution_count": 89,
   "metadata": {},
   "outputs": [],
   "source": [
    "# 순회하며 값 찾기, n이기 때문에 가장 효율적이라고 볼 수 있음.\n",
    "def find_low_2_number_search(L:List[float]): \n",
    "    lowest = 9999\n",
    "    low = 9999\n",
    "    for i in L:\n",
    "        if i <= lowest :\n",
    "            low = lowest\n",
    "            lowest = i\n",
    "        elif i <= low:\n",
    "            low = i\n",
    "    return (lowest,low)"
   ]
  },
  {
   "cell_type": "code",
   "execution_count": 90,
   "metadata": {},
   "outputs": [
    {
     "name": "stdout",
     "output_type": "stream",
     "text": [
      "(1, 2)\n"
     ]
    }
   ],
   "source": [
    "l = [1,2,3,4,5]\n",
    "print(find_low_2_number_search(l))"
   ]
  },
  {
   "cell_type": "code",
   "execution_count": 92,
   "metadata": {},
   "outputs": [],
   "source": [
    "def method_time_check(L:List[float]):\n",
    "    t1 = time.perf_counter()\n",
    "    print(find_low_2_number(L))\n",
    "    t2 = time.perf_counter()\n",
    "    print(t2-t1)\n",
    "    \n",
    "    t1 = time.perf_counter()\n",
    "    print(find_low_2_number_sort(L))\n",
    "    t2 = time.perf_counter()\n",
    "    print(t2-t1)\n",
    "    \n",
    "    t1 = time.perf_counter()\n",
    "    print(find_low_2_number_search(L))\n",
    "    t2 = time.perf_counter()\n",
    "    print(t2-t1)"
   ]
  },
  {
   "cell_type": "code",
   "execution_count": 95,
   "metadata": {},
   "outputs": [],
   "source": [
    "import random"
   ]
  },
  {
   "cell_type": "code",
   "execution_count": 98,
   "metadata": {},
   "outputs": [
    {
     "name": "stdout",
     "output_type": "stream",
     "text": [
      "(1, 2)\n",
      "0.04824001599990879\n",
      "(1, 2)\n",
      "0.2886776400009694\n",
      "(1, 2)\n",
      "0.13357333699968876\n"
     ]
    }
   ],
   "source": [
    "\n",
    "l = [1,2]\n",
    "for i in range(1000000):\n",
    "    l.append(random.randint(1,10000000))\n",
    "method_time_check(l)"
   ]
  }
 ],
 "metadata": {
  "kernelspec": {
   "display_name": "Python 3",
   "language": "python",
   "name": "python3"
  },
  "language_info": {
   "codemirror_mode": {
    "name": "ipython",
    "version": 3
   },
   "file_extension": ".py",
   "mimetype": "text/x-python",
   "name": "python",
   "nbconvert_exporter": "python",
   "pygments_lexer": "ipython3",
   "version": "3.8.5"
  }
 },
 "nbformat": 4,
 "nbformat_minor": 4
}
