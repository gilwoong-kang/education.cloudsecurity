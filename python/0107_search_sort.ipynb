{
 "cells": [
  {
   "cell_type": "markdown",
   "metadata": {},
   "source": [
    "# 검색\n",
    "\n",
    "wihle loop 를 이용한 선형 검색"
   ]
  },
  {
   "cell_type": "code",
   "execution_count": 3,
   "metadata": {},
   "outputs": [],
   "source": [
    "from typing import Any,List\n",
    "\n",
    "def linear_search_while(lst:List, value:Any) -> int:\n",
    "    i = 0\n",
    "    while i != len(lst) and lst[i] != value:\n",
    "        i += 1\n",
    "    if i == len(lst):\n",
    "        return -1\n",
    "    else:\n",
    "        return 1"
   ]
  },
  {
   "cell_type": "code",
   "execution_count": 4,
   "metadata": {},
   "outputs": [
    {
     "data": {
      "text/plain": [
       "1"
      ]
     },
     "execution_count": 4,
     "metadata": {},
     "output_type": "execute_result"
    }
   ],
   "source": [
    "l = [1,2,3,4,5,6,7,8,9]\n",
    "linear_search_while(l,9)"
   ]
  },
  {
   "cell_type": "code",
   "execution_count": 5,
   "metadata": {},
   "outputs": [],
   "source": [
    "def linear_search_for(lst:List, value:Any) -> int:\n",
    "    for i in lst:\n",
    "        if lst[i] == value:\n",
    "            return 1\n",
    "    return -1"
   ]
  },
  {
   "cell_type": "code",
   "execution_count": 6,
   "metadata": {},
   "outputs": [
    {
     "data": {
      "text/plain": [
       "1"
      ]
     },
     "execution_count": 6,
     "metadata": {},
     "output_type": "execute_result"
    }
   ],
   "source": [
    "l = [1,2,3,4,5,6,7,8,9]\n",
    "linear_search_for(l,9)"
   ]
  },
  {
   "cell_type": "code",
   "execution_count": 7,
   "metadata": {},
   "outputs": [],
   "source": [
    "def linear_search_sentinal(lst:List, value:Any) -> int:\n",
    "    lst.append(value)\n",
    "    \n",
    "    i=0\n",
    "    \n",
    "    while lst[i] != value:\n",
    "        i += 1\n",
    "    \n",
    "    lst.pop()\n",
    "    \n",
    "    if i == len(lst):\n",
    "        return -1\n",
    "    else:\n",
    "        return 1"
   ]
  },
  {
   "cell_type": "code",
   "execution_count": 8,
   "metadata": {},
   "outputs": [
    {
     "data": {
      "text/plain": [
       "1"
      ]
     },
     "execution_count": 8,
     "metadata": {},
     "output_type": "execute_result"
    }
   ],
   "source": [
    "l = [1,2,3,4,5,6,7,8,9]\n",
    "linear_search_sentinal(l,9)"
   ]
  },
  {
   "cell_type": "code",
   "execution_count": 9,
   "metadata": {},
   "outputs": [],
   "source": [
    "import time\n",
    "from typing import Callable, Any\n",
    "\n",
    "def time_it(search: Callable[[list,Any],Any],L:list,v:Any):\n",
    "    t1 = time.perf_counter()\n",
    "    search(L,v)\n",
    "    t2 = time.perf_counter()\n",
    "    return (t2-t1) *1000.0"
   ]
  },
  {
   "cell_type": "code",
   "execution_count": 10,
   "metadata": {},
   "outputs": [
    {
     "data": {
      "text/plain": [
       "0.002348999259993434"
      ]
     },
     "execution_count": 10,
     "metadata": {},
     "output_type": "execute_result"
    }
   ],
   "source": [
    "l = [1,2,3,4,5,6,7,8,9]\n",
    "time_it(linear_search_while,l,5)"
   ]
  },
  {
   "cell_type": "markdown",
   "metadata": {},
   "source": [
    "## 이진 검색\n",
    "\n",
    "반절씩 줄여나가며 탐색하는 방법"
   ]
  },
  {
   "cell_type": "code",
   "execution_count": 11,
   "metadata": {},
   "outputs": [],
   "source": [
    "def binary_search(lst:list,value:Any) -> int:\n",
    "    i = 0\n",
    "    j = len(lst)-1\n",
    "    \n",
    "    while i != j+1:\n",
    "        m = (i+j)//2\n",
    "        if lst[m]<v:\n",
    "            i = m+1\n",
    "        else:\n",
    "            j=m-1\n",
    "        if 0<= i< len(lst) and lst[i]==i:\n",
    "            return i\n",
    "        else :\n",
    "            return -1\n",
    "        "
   ]
  },
  {
   "cell_type": "code",
   "execution_count": 12,
   "metadata": {},
   "outputs": [],
   "source": [
    "if __name__ == '__main__':\n",
    "    import doctest\n",
    "    doctest.testmod()"
   ]
  },
  {
   "cell_type": "markdown",
   "metadata": {},
   "source": [
    "## Selection sort - 선택정렬\n",
    "\n",
    "정렬되지 않은 부분 전체를 순회하며 가장 작은 값을 찾아 정렬된 부분 우측에 위치시킨다. 이것을 모든 값이 정렬될 때까지 반복한다. n길이의 선형 자료형을 n번 반복하게 되므로 n^2"
   ]
  },
  {
   "cell_type": "code",
   "execution_count": 13,
   "metadata": {},
   "outputs": [],
   "source": [
    "def selection_sort(l:list):\n",
    "    for i in range(len(l)):\n",
    "        idx = l.index(min(l[i:]),i)\n",
    "        dummy = l[i]\n",
    "        l[i] = l[idx]\n",
    "        l[idx] = dummy\n",
    "    return l"
   ]
  },
  {
   "cell_type": "code",
   "execution_count": 14,
   "metadata": {},
   "outputs": [
    {
     "name": "stdout",
     "output_type": "stream",
     "text": [
      "[1, 2, 3, 3, 6, 7, 7, 16, 25]\n"
     ]
    }
   ],
   "source": [
    "l = [7,16,3,25,2,6,1,7,3]\n",
    "print(selection_sort(l))"
   ]
  },
  {
   "cell_type": "markdown",
   "metadata": {},
   "source": [
    "## Insertion sort - 삽입정렬\n",
    "전체를 순회하며 현재 값이 정렬된 부분에서 올바른 위치에 삽입하는 방식."
   ]
  },
  {
   "cell_type": "code",
   "execution_count": 15,
   "metadata": {},
   "outputs": [
    {
     "name": "stdout",
     "output_type": "stream",
     "text": [
      "[3, 4, 6, -1, 2, 5]\n",
      "[-1, 2, 3, 4, 5, 6]\n"
     ]
    }
   ],
   "source": [
    "# 기 정렬된 영역에 L[:b+1] 내 올바른 위치에 L[b]를 삽입\n",
    "def insert(L: list, b: int) -> None:\n",
    "    i = b\n",
    "    while i != 0 and L[i - 1] >= L[b]:\n",
    "        i = i - 1\n",
    "\n",
    "    value = L[b]\n",
    "    del L[b]\n",
    "    L.insert(i, value)\n",
    "\n",
    "def insertion_sort(L: list) -> None:\n",
    "    i = 0\n",
    "\n",
    "    while i != len(L):\n",
    "        insert(L, i)    \n",
    "        i = i + 1\n",
    "\n",
    "L = [ 3, 4, 6, -1, 2, 5 ]\n",
    "print(L)\n",
    "insertion_sort(L)\n",
    "print(L)       \n"
   ]
  },
  {
   "cell_type": "markdown",
   "metadata": {},
   "source": [
    "## Merge sort - 병합정렬"
   ]
  },
  {
   "cell_type": "code",
   "execution_count": 16,
   "metadata": {},
   "outputs": [
    {
     "name": "stdout",
     "output_type": "stream",
     "text": [
      "10\t    0.0\t    0.0\t    0.0\t    0.0\t\n",
      "1000\t   16.5\t   37.0\t    4.1\t    0.1\t\n",
      "2000\t   54.9\t  141.1\t   12.2\t    0.2\t\n",
      "3000\t  130.2\t  321.6\t   15.0\t    0.4\t\n",
      "4000\t  217.9\t  592.7\t   20.7\t    0.5\t\n",
      "5000\t  357.6\t  871.0\t   26.0\t    0.7\t\n",
      "10000\t 1450.2\t 3544.8\t   55.7\t    1.5\t\n"
     ]
    }
   ],
   "source": [
    "# 2개의 리스트를 하나의 정렬된 리스트로 반환\n",
    "def merge(L1: list, L2: list) -> list:\n",
    "\n",
    "    newL = [] \n",
    "    i1 = 0\n",
    "    i2 = 0\n",
    "\n",
    "    # [ 1, 1, 2, 3, 4, 5, 6, 7  ]\n",
    "    # [ 1, 3, 4, 6 ]   [ 1, 2, 5, 7 ]\n",
    "    #              i1            \n",
    "    #                             i2 \n",
    "    while i1 != len(L1) and i2 != len(L2):\n",
    "        if L1[i1] <= L2[i2]:\n",
    "            newL.append(L1[i1])\n",
    "            i1 += 1\n",
    "        else:\n",
    "            newL.append(L2[i2])\n",
    "            i2 += 1\n",
    "\n",
    "    newL.extend(L1[i1:])\n",
    "    newL.extend(L2[i2:])\n",
    "\n",
    "    return newL\n",
    "\n",
    "\n",
    "def merge_sort(L: list) -> None:        # [ 1, 3, 4, 6, 1, 2, 5, 7 ]\n",
    "    workspace = []\n",
    "    for i in range(len(L)):             \n",
    "        workspace.append([L[i]])        # [ [1], [3], [4], [6], [1], [2], [5], [7] ]\n",
    "\n",
    "    i = 0\n",
    "    while i < len(workspace) - 1:\n",
    "        L1 = workspace[i]               # [ [1], [3], [4], [6], [1], [2], [5], [7], [1,3],[4,6],[1,2],[5,7], [1,3,4,6],[1,2,5,7],[1,1,2,3,4,5,6,7]  ]\n",
    "        L2 = workspace[i + 1]\n",
    "        newL = merge(L1, L2)               \n",
    "        workspace.append(newL)\n",
    "        i += 2\n",
    "\n",
    "    if len(workspace) != 0:\n",
    "        L[:] = workspace[-1][:]\n",
    "\n",
    "\n",
    "import time, random\n",
    "\n",
    "def built_in(L: list) -> None:\n",
    "    L.sort()\n",
    "\n",
    "def print_times(L: list) -> None:\n",
    "    print(len(L), end='\\t')\n",
    "    for func in (selection_sort, insertion_sort, merge_sort, built_in):\n",
    "        if func in (selection_sort, insertion_sort, merge_sort) and len(L) > 10000:\n",
    "            continue\n",
    "\n",
    "        L_copy = L[:]\n",
    "        t1 = time.perf_counter()\n",
    "        func(L_copy)\n",
    "        t2 = time.perf_counter()\n",
    "        print(\"{0:7.1f}\".format((t2 - t1) * 1000.0), end=\"\\t\")\n",
    "\n",
    "    print()\n",
    "\n",
    "for list_size in [ 10, 1000, 2000, 3000, 4000, 5000, 10000 ]: \n",
    "    L = list(range(list_size))\n",
    "    random.shuffle(L)\n",
    "    print_times(L)\n"
   ]
  },
  {
   "cell_type": "markdown",
   "metadata": {},
   "source": [
    "# 객체지향 프로그래밍\n",
    "\n",
    "```isinstance(object,class)``` 해당 객체가 클래스에 해당하는지 아닌지를 반환."
   ]
  },
  {
   "cell_type": "code",
   "execution_count": 23,
   "metadata": {},
   "outputs": [],
   "source": [
    "from typing import List,Any\n",
    "\n",
    "class Book:\n",
    "    \n",
    "    \n",
    "    def num_authors(self) -> int:\n",
    "        return len(self.authors)\n",
    "    \n",
    "    \n",
    "    def __init__(self,title:str,authors:List[str],publisher:str,isbn:str,price:float) : # 생성자. \n",
    "        self.title = title\n",
    "        self.authors = authors[:] # [:] 를 적지 않고 직접 넘겨주면 참조형식이기 때문에 외부에서 값이 바뀌면 해당 값도 바뀜. 때문에 새로 만들어서 복사하는 방법을 채택. \n",
    "        self.publisher = publisher\n",
    "        self.isbn = isbn\n",
    "        self.price = price\n",
    "\n",
    "    def print_authors(self) -> None:\n",
    "        for authors in self.authors:\n",
    "            print(authors)\n",
    "    def __str__(self) -> str:\n",
    "        return 'Title : {}\\nAuthors : {}'.format(self.title,self.authors)\n",
    "\n",
    "    def __eq__(self,other:Any) -> bool:\n",
    "        if isinstance(other,Book):\n",
    "            return True if self.isbn == other.isbn else False\n",
    "        return False"
   ]
  },
  {
   "cell_type": "code",
   "execution_count": 24,
   "metadata": {},
   "outputs": [
    {
     "name": "stdout",
     "output_type": "stream",
     "text": [
      "aaa\n",
      "bbb\n",
      "ccc\n",
      "3\n",
      "Title : My book\n",
      "Authors : ['aaa', 'bbb', 'ccc']\n",
      "True\n"
     ]
    }
   ],
   "source": [
    "book = Book('My book',['aaa','bbb','ccc'],'한빛출판사','123-456-789','300000.0')\n",
    "book.print_authors()\n",
    "print(book.num_authors())\n",
    "print(book)\n",
    "\n",
    "newBook = Book('My book',['aaa','bbb','ccc'],'한빛출판사','123-456-789','300000.0')\n",
    "print(book==newBook)\n",
    "\n"
   ]
  },
  {
   "cell_type": "markdown",
   "metadata": {},
   "source": [
    "레퍼런스 타입을 넘겨줄때 값을 참조하는 형식이 아닌 값을 직접 받는 형식으로 취하게 해야 한다. \n",
    "\n",
    "캡슐화 : 데이터와 그 데이터를 사용하는 코드를 한곳에 넣고 정확히 어떻게 동작하는ㄴ지 상세한 내용은 숨기는 것        \n",
    "다형성 : 하나 이상의 형태를 갖는 것. 어떤 변수를 포함하는 표현식이 변수가 참조하는 객체의 타입에 따라 서로 다른 일을 하는 것         \n",
    "상속 : 새로운 클래스는 부모 클래스(object 클래스 또는 사용자 정의 속성을 상속)      "
   ]
  },
  {
   "cell_type": "code",
   "execution_count": 48,
   "metadata": {},
   "outputs": [],
   "source": [
    "class Member:\n",
    "    def __init__(self,name:str,address:str,email:str):\n",
    "        self.name = name\n",
    "        self.address = address\n",
    "        self.email = email\n",
    "        \n",
    "class Faculty(Member):\n",
    "    def __init__(self,name:str,address:str,email:str,faculty_num:str):\n",
    "        super().__init__(name,address,email)\n",
    "        self.faculty_number = faculty_num\n",
    "        self.courses_teaching = []"
   ]
  },
  {
   "cell_type": "code",
   "execution_count": 49,
   "metadata": {},
   "outputs": [],
   "source": [
    "class Atom:\n",
    "    '''번호, 기호, 좌표(X, Y, Z)를 갖는 원자'''\n",
    "\n",
    "    def __init__(self, num: int, sym: str, x: float, y: float, z: float) -> None:\n",
    "        self.num = num\n",
    "        self.sym = sym\n",
    "        self.center = (x, y, z)\n",
    "\n",
    "    def __str__(self) -> str:\n",
    "        '''(SYMBOL, X, Y, Z) 형식의 문자열을 반환'''\n",
    "        return '({}, {}, {}, {}'.format(self.sym, self.center[0], self.center[1], self.center[2])\n",
    "\n",
    "    def translate(self, x: float, y: float, z: float) -> None:\n",
    "        self.center = (self.center[0] + x, self.center[1] + y, self.center[2] + z)\n"
   ]
  },
  {
   "cell_type": "code",
   "execution_count": 51,
   "metadata": {},
   "outputs": [
    {
     "name": "stdout",
     "output_type": "stream",
     "text": [
      "(AMMONIA, ((N, 0.257, -0.363, 0.2, (H, 0.257, 0.727, 0.2, (H, 0.771, -0.727, 1.09, (H, 0.771, -0.727, -0.69))\n"
     ]
    }
   ],
   "source": [
    "\n",
    "class Molecule:\n",
    "    ''' 이름과 원자 리스트를 갖는 분자 '''\n",
    "\n",
    "    def __init__(self, name: str) -> None:\n",
    "        self.name = name\n",
    "        self.atoms = []\n",
    "\n",
    "    def add(self, a: Atom) -> None:\n",
    "        self.atoms.append(a)\n",
    "\n",
    "    def __str__(self) -> str:\n",
    "        '''(NAME, (ATOM1, ATOM2, ...)) 형식의 문자열을 반환'''\n",
    "\n",
    "        atom_list = ''\n",
    "        for a in self.atoms:\n",
    "            atom_list = atom_list + str(a) + ', '\n",
    "        \n",
    "        atom_list = atom_list[:-2]      # 마지막에 추가된 ', ' 문자를 제거\n",
    "\n",
    "        return '({}, ({}))'.format(self.name, atom_list)\n",
    "\n",
    "    def translate(self, x: float, y: float, z: float) -> None:\n",
    "        for a in self.atoms:\n",
    "            a.translate(x, y, z)\n",
    "\n",
    "\n",
    "ammonia = Molecule(\"AMMONIA\")\n",
    "ammonia.add(Atom(1, \"N\", 0.257, -0.363, 0.0))\n",
    "ammonia.add(Atom(2, \"H\", 0.257, 0.727, 0.0))\n",
    "ammonia.add(Atom(3, \"H\", 0.771, -0.727, 0.890))\n",
    "ammonia.add(Atom(4, \"H\", 0.771, -0.727, -0.890))\n",
    "ammonia.translate(0, 0, 0.2)\n",
    "\n",
    "\n",
    "\n",
    "#assert ammonia.atoms[0].center[0] == 0.257\n",
    "#assert ammonia.atoms[0].center[1] == -0.363\n",
    "\n",
    "assert ammonia.atoms[0].center[2] == 0.2\n",
    "\n",
    "print(ammonia)\n"
   ]
  },
  {
   "cell_type": "code",
   "execution_count": null,
   "metadata": {},
   "outputs": [],
   "source": []
  }
 ],
 "metadata": {
  "kernelspec": {
   "display_name": "Python 3",
   "language": "python",
   "name": "python3"
  },
  "language_info": {
   "codemirror_mode": {
    "name": "ipython",
    "version": 3
   },
   "file_extension": ".py",
   "mimetype": "text/x-python",
   "name": "python",
   "nbconvert_exporter": "python",
   "pygments_lexer": "ipython3",
   "version": "3.8.5"
  }
 },
 "nbformat": 4,
 "nbformat_minor": 4
}