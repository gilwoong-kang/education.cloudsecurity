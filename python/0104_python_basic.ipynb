{
 "cells": [
  {
   "cell_type": "code",
   "execution_count": 19,
   "metadata": {},
   "outputs": [
    {
     "name": "stdout",
     "output_type": "stream",
     "text": [
      "17 17.0\n",
      "<class 'int'>\n",
      "<class 'float'>\n",
      "2.2083333333333335\n",
      "2\n",
      "5\n",
      "-2\n",
      "-2\n",
      "-3\n",
      "729\n",
      "5\n"
     ]
    }
   ],
   "source": [
    "print(4 + 13, \n",
    "4.0 + 13.0)\n",
    "\n",
    "print(type(4))\n",
    "print(type(4.0))\n",
    "\n",
    "print(53/24)   # 파이썬은 int형으로 나눠도 실수형으로 반환.\n",
    "print(53//24)  # 정수 나눗셈\n",
    "print(53 % 24) # 나머지 (모듈러 연산)\n",
    "\n",
    "print(-17//10) # 음수 연산자에서 파이썬은 정수 나눗셈 결과에 1 작게 결과가 도출된다. (-1인데 하나 작은 -2가 도출.)\n",
    "print(17//-10)\n",
    "print(17%-10)\n",
    "\n",
    "print(3 ** 6) # '**' 는 제곱을 의미.\n",
    "print(--5) # 단항 연산자 (항이 하나인 연산의 연산자.)"
   ]
  },
  {
   "cell_type": "code",
   "execution_count": null,
   "metadata": {},
   "outputs": [],
   "source": [
    "degrees_celsius = 26.0  # 변수\n",
    "\n",
    "'''\n",
    "요것도 주석\n",
    "'''\n",
    "\"\"\"\n",
    "요것도 주석\n",
    "\"\"\"\n",
    "\n",
    "# 요것도 주석\n"
   ]
  },
  {
   "cell_type": "code",
   "execution_count": null,
   "metadata": {},
   "outputs": [],
   "source": [
    "# 2장 연습문제\n",
    "\n",
    "# 1.\n",
    "print(9 - 3)\n",
    "print(8*2.5)\n",
    "print(9/2)\n",
    "print(9/-2)\n",
    "print(9 // -2)\n",
    "print(9%2)\n",
    "print(9.0 % 2)\n",
    "print(9%2.0)\n",
    "print(9%-2)\n",
    "print(-9%2)\n",
    "print(4+3*5)\n",
    "print((4+3)*5)\n",
    "\n",
    "# 3.\n",
    "temp = 24\n",
    "temp *= 1.8\n",
    "temp += 32\n",
    "print(temp)\n",
    "\n",
    "# 5.\n",
    "x = 10.5\n",
    "y = 4\n",
    "x = x+y "
   ]
  },
  {
   "cell_type": "code",
   "execution_count": 28,
   "metadata": {},
   "outputs": [
    {
     "data": {
      "text/plain": [
       "16"
      ]
     },
     "execution_count": 28,
     "metadata": {},
     "output_type": "execute_result"
    }
   ],
   "source": [
    "pow(abs(-2),round(4.3))"
   ]
  },
  {
   "cell_type": "code",
   "execution_count": 29,
   "metadata": {},
   "outputs": [],
   "source": [
    "def multiply(a,b):\n",
    "    return a*b"
   ]
  },
  {
   "cell_type": "code",
   "execution_count": 30,
   "metadata": {},
   "outputs": [
    {
     "name": "stdout",
     "output_type": "stream",
     "text": [
      "210\n"
     ]
    }
   ],
   "source": [
    "print(multiply(10,21))"
   ]
  },
  {
   "cell_type": "code",
   "execution_count": 33,
   "metadata": {},
   "outputs": [
    {
     "name": "stdout",
     "output_type": "stream",
     "text": [
      "3\n",
      "(7, -1, 12, 0.75)\n"
     ]
    }
   ],
   "source": [
    "add = lambda a,b : a+b\n",
    "\n",
    "print(add(1,2))\n",
    "\n",
    "calculator = lambda a, b: ( a + b, a - b, a * b, a / b )\n",
    "\n",
    "print(calculator(3,4))"
   ]
  },
  {
   "cell_type": "code",
   "execution_count": 97,
   "metadata": {},
   "outputs": [],
   "source": [
    "# 날짜의 차이를 계산\n",
    "def days_difference(x:int,y:int):\n",
    "    '''\n",
    "     day1과 day2 간 날짜수 차이를 반환한다.\n",
    "     이때 day1과 day2는 (그해의 몇 번째 날인지 가리키는) 1에서 365 사이의 값이다.\n",
    " \n",
    "    >>> days_difference(200, 224)\n",
    "    24\n",
    "    >>> days_difference(50, 50)\n",
    "    0\n",
    "    >>> days_difference(100, 99)\n",
    "    -1\n",
    "    '''\n",
    "\n",
    "    return y-x\n",
    "\n",
    "# 현재 요일 기준 n일 이후의 요일을 계산\n",
    "def get_weekday(current_weekday:int,days_ahead:int):\n",
    "    '''\n",
    "    current_weekday에서 days_ahead만큼 지나면 무슨 요일인지 반환한다.\n",
    " \n",
    "    >>> get_weekday(3, 1)   \n",
    "    4\n",
    "    >>> get_weekday(6, 1)\n",
    "    7\n",
    "    >>> get_weekday(7, 1)   \n",
    "    1\n",
    "    >>> get_weekday(1, 0)\n",
    "    1\n",
    "    >>> get_weekday(4, 7)\n",
    "    4\n",
    "    >>> get_weekday(7, 72)  \n",
    "    2\n",
    "    '''\n",
    "\n",
    "    return (current_weekday + days_ahead - 1 ) % 7 + 1 \n",
    "\n",
    "# 생일 요일 구하기\n",
    "def get_birthday_weekday(current_weekday:int,current_day: int,birthday_day : int):\n",
    "    '''\n",
    "    요일은 current_weekday, 그 해의 몇 번째 날인지는 current_day일 때, birthday_day가 무슨 요일인지를 반환한다.\n",
    "    current_weekday는 현재 요일로서 범위는 1 ~ 7이며, 오늘이 일요일(1)인지, 월요일(2), 토요일(7)인지 등을 나타낸다.\n",
    "    current_day와 birthday_day는 1부터 365 사이의 값이다.\n",
    " \n",
    "    >>> get_birthday_weekday(5, 3, 4)       # 오늘이 올해의 3번째이고 목요일(5)이라면 생일(올해의 4번째날)은 무슨 요일일까?\n",
    "    6\n",
    "    >>> get_birthday_weekday(5, 3, 10)      # 날짜 차이가 7일(10 - 3)이면 같은 요일\n",
    "    5\n",
    "    >>> get_birthday_weekday(6, 116, 3)     # (3 - 116) 이전의 날짜의 요일은? => 17주 이전(119일 이전)로 이동 후 6일이 경과\n",
    "    5\n",
    "    '''\n",
    "    return get_weekday(current_weekday,days_difference(current_day,birthday_day))"
   ]
  },
  {
   "cell_type": "code",
   "execution_count": 93,
   "metadata": {},
   "outputs": [
    {
     "name": "stdout",
     "output_type": "stream",
     "text": [
      "2\n",
      "6\n"
     ]
    }
   ],
   "source": [
    "print(get_weekday(7,72))\n",
    "print(get_birthday_weekday(5,3,116))"
   ]
  },
  {
   "cell_type": "markdown",
   "metadata": {},
   "source": [
    "주석에 포함된 테스트 케이스 코드를 자동으로 테스트 하는 방법이 존재. 반자동식 코드 테스트.159p"
   ]
  },
  {
   "cell_type": "code",
   "execution_count": 98,
   "metadata": {},
   "outputs": [
    {
     "data": {
      "text/plain": [
       "TestResults(failed=0, attempted=12)"
      ]
     },
     "execution_count": 98,
     "metadata": {},
     "output_type": "execute_result"
    }
   ],
   "source": [
    "import doctest\n",
    "doctest.testmod()"
   ]
  }
 ],
 "metadata": {
  "kernelspec": {
   "display_name": "Python 3",
   "language": "python",
   "name": "python3"
  },
  "language_info": {
   "codemirror_mode": {
    "name": "ipython",
    "version": 3
   },
   "file_extension": ".py",
   "mimetype": "text/x-python",
   "name": "python",
   "nbconvert_exporter": "python",
   "pygments_lexer": "ipython3",
   "version": "3.8.5"
  }
 },
 "nbformat": 4,
 "nbformat_minor": 4
}
